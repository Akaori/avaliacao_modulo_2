{
 "cells": [
  {
   "cell_type": "markdown",
   "id": "bbae8e1a",
   "metadata": {},
   "source": [
    "# Dados\n",
    "\n",
    "https://www.kaggle.com/unsdsn/world-happiness\n",
    "\n",
    "https://www.kaggle.com/ajaypalsinghlo/world-happiness-report-2021?select=world-happiness-report-2021.csv"
   ]
  },
  {
   "cell_type": "code",
   "execution_count": null,
   "id": "89662ecb",
   "metadata": {},
   "outputs": [],
   "source": []
  }
 ],
 "metadata": {
  "kernelspec": {
   "display_name": "Python 3 (ipykernel)",
   "language": "python",
   "name": "python3"
  },
  "language_info": {
   "codemirror_mode": {
    "name": "ipython",
    "version": 3
   },
   "file_extension": ".py",
   "mimetype": "text/x-python",
   "name": "python",
   "nbconvert_exporter": "python",
   "pygments_lexer": "ipython3",
   "version": "3.8.10"
  }
 },
 "nbformat": 4,
 "nbformat_minor": 5
}
